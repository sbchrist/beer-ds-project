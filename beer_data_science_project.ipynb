{
 "cells": [
  {
   "cell_type": "code",
   "execution_count": 116,
   "metadata": {},
   "outputs": [],
   "source": [
    "import pandas as pd\n",
    "import numpy as np\n",
    "import matplotlib.pyplot as plt\n",
    "import seaborn as sns\n",
    "import nltk\n",
    "import statsmodels\n",
    "import datetime\n",
    "import re\n",
    "from nltk.sentiment.vader import SentimentIntensityAnalyzer\n",
    "\n",
    "%matplotlib inline"
   ]
  },
  {
   "cell_type": "code",
   "execution_count": 6,
   "metadata": {},
   "outputs": [],
   "source": [
    "#impor the data\n",
    "beer_df = pd.read_csv('BeerDataScienceProject.csv',encoding='iso-8859-1')"
   ]
  },
  {
   "cell_type": "markdown",
   "metadata": {},
   "source": [
    "# Q1.\n",
    "Answer:\n",
    "\n",
    "The 3 unique breweries which produce the strongest beers are [ 6513,    35, 16866]\n"
   ]
  },
  {
   "cell_type": "code",
   "execution_count": 26,
   "metadata": {},
   "outputs": [
    {
     "data": {
      "text/plain": [
       "array([ 6513,    35, 16866])"
      ]
     },
     "execution_count": 26,
     "metadata": {},
     "output_type": "execute_result"
    }
   ],
   "source": [
    "#this takes a pandas dataframe, sorts it based on ABV, and then returns and array of the top 3 unique breweries\n",
    "beer_df.sort_values(by=['beer_ABV'],ascending=False)['beer_brewerId'].unique()[0:3]"
   ]
  },
  {
   "cell_type": "markdown",
   "metadata": {},
   "source": [
    "# Q2\n",
    "Answer:\n",
    "\n",
    "2000 saw the year with highest average rankings as seen in the graph and data table below."
   ]
  },
  {
   "cell_type": "code",
   "execution_count": 79,
   "metadata": {},
   "outputs": [],
   "source": [
    "# since the time column was in a unix time stamp, it had to be converted\n",
    "beer_df['utc_time'] = beer_df['review_time'].apply(lambda x : datetime.datetime.utcfromtimestamp(x).strftime('%Y-%m-%dT%H:%M:%SZ'))"
   ]
  },
  {
   "cell_type": "code",
   "execution_count": 87,
   "metadata": {},
   "outputs": [],
   "source": [
    "#once the columns were converted the year could easliy be grabbed\n",
    "beer_df['review_year']=beer_df['utc_time'].apply(lambda x : x[0:4])"
   ]
  },
  {
   "cell_type": "code",
   "execution_count": 101,
   "metadata": {},
   "outputs": [
    {
     "data": {
      "text/plain": [
       "<matplotlib.axes._subplots.AxesSubplot at 0x12bffdcc0>"
      ]
     },
     "execution_count": 101,
     "metadata": {},
     "output_type": "execute_result"
    },
    {
     "data": {
      "image/png": "[encoded data removed]",
      "text/plain": [
       "<Figure size 1152x432 with 1 Axes>"
      ]
     },
     "metadata": {
      "needs_background": "light"
     },
     "output_type": "display_data"
    }
   ],
   "source": [
    "#increase the size of the graph displayed\n",
    "plt.figure(figsize=(16, 6))\n",
    "\n",
    "sns.barplot(x=\"review_year\", y=\"review_overall\", data=beer_df, estimator=np.mean)\n"
   ]
  },
  {
   "cell_type": "code",
   "execution_count": 102,
   "metadata": {},
   "outputs": [
    {
     "data": {
      "text/plain": [
       "review_year\n",
       "1998    3.891304\n",
       "1999    4.000000\n",
       "2000    4.181818\n",
       "2001    3.927741\n",
       "2002    3.798905\n",
       "2003    3.752900\n",
       "2004    3.794630\n",
       "2005    3.832042\n",
       "2006    3.798192\n",
       "2007    3.809552\n",
       "2008    3.833939\n",
       "2009    3.864390\n",
       "2010    3.866139\n",
       "2011    3.828093\n",
       "2012    3.829717\n",
       "Name: review_overall, dtype: float64"
      ]
     },
     "execution_count": 102,
     "metadata": {},
     "output_type": "execute_result"
    }
   ],
   "source": [
    "beer_df.groupby('review_year')['review_overall'].mean()"
   ]
  },
  {
   "cell_type": "markdown",
   "metadata": {},
   "source": [
    "## Q3\n",
    "Answer:\n",
    "\n",
    "Since the variable we are trying to predict is an ordinal with intervals of .5 from 0-5, we must used an ordered logit model to predict it.  If we were to use a linear model we would have trouble interpreting the coefficients.  Python currently does not have any libraries that can satisfactorily model an ordered logit.  The regression model used can be found under \"beer_regression.R\".  The results are below:"
   ]
  },
  {
   "cell_type": "markdown",
   "metadata": {},
   "source": [
    "\n",
    "|measurements|review_aroma|review_taste|review_appearance|review_palette|\n",
    "|---|---|---|---|---|\n",
    "|Odds Ratios|11.698266|3.290977|1.208751|1.270309|\n",
    "|P Values|0|0|1.638669e-252|0|"
   ]
  },
  {
   "cell_type": "markdown",
   "metadata": {},
   "source": [
    "As we can see with an odds ratio of 11.7, aroma is much more associated with a favorable final rating that the other variable, with taste coming in second with an odds ratio of 3.29.  All variable are statistically significant.  "
   ]
  },
  {
   "cell_type": "markdown",
   "metadata": {},
   "source": [
    "# Q4\n",
    "\n",
    "Answer:\n",
    "\n",
    "I would probably recommend 19960,11757, and 34.  These beers have the highest ratings and the largest sample size.  "
   ]
  },
  {
   "cell_type": "code",
   "execution_count": 158,
   "metadata": {
    "scrolled": true
   },
   "outputs": [],
   "source": [
    "rec_beer = beer_df[(beer_df['review_overall']>=5.0)]"
   ]
  },
  {
   "cell_type": "code",
   "execution_count": 160,
   "metadata": {},
   "outputs": [
    {
     "data": {
      "text/plain": [
       "19960    520\n",
       "11757    507\n",
       "34       492\n",
       "645      464\n",
       "15881    462\n",
       "        ... \n",
       "23696      1\n",
       "35978      1\n",
       "63673      1\n",
       "7304       1\n",
       "10285      1\n",
       "Name: beer_beerId, Length: 3810, dtype: int64"
      ]
     },
     "execution_count": 160,
     "metadata": {},
     "output_type": "execute_result"
    }
   ],
   "source": [
    "rec_beer['beer_beerId'].value_counts()"
   ]
  },
  {
   "cell_type": "markdown",
   "metadata": {},
   "source": [
    "# Q5\n",
    "\n",
    "Answer:\n",
    "\n",
    "For this question I am using the rules-based sentiment analysis library vader (https://github.com/cjhutto/vaderSentiment).  The beer that seems to be the favorite has an ID of 65758, it also has an overall score of a 4."
   ]
  },
  {
   "cell_type": "code",
   "execution_count": 118,
   "metadata": {},
   "outputs": [],
   "source": [
    "# instantiate sentiment analyzer object\n",
    "sid = SentimentIntensityAnalyzer()\n",
    "\n",
    "#loop over the text column and apply the polarity score for each comment.  \n",
    "beer_df['COMPOUND_SENT'] = beer_df['review_text'].apply(lambda x: sid.polarity_scores(x)['compound'] if pd.isnull(x)==False else None)\n"
   ]
  },
  {
   "cell_type": "code",
   "execution_count": 128,
   "metadata": {},
   "outputs": [],
   "source": [
    "# stores the grouped sentiment scores in a variable\n",
    "beer_group = beer_df.groupby('beer_beerId')['COMPOUND_SENT'].mean()"
   ]
  },
  {
   "cell_type": "code",
   "execution_count": 134,
   "metadata": {},
   "outputs": [
    {
     "data": {
      "text/plain": [
       "beer_beerId\n",
       "65758    0.9991\n",
       "23795    0.9986\n",
       "63248    0.9983\n",
       "68059    0.9982\n",
       "67719    0.9981\n",
       "          ...  \n",
       "56805   -0.9769\n",
       "40954   -0.9804\n",
       "5792    -0.9832\n",
       "66812   -0.9851\n",
       "66531   -0.9888\n",
       "Name: COMPOUND_SENT, Length: 20200, dtype: float64"
      ]
     },
     "execution_count": 134,
     "metadata": {},
     "output_type": "execute_result"
    }
   ],
   "source": [
    "#sorts the previously made variable\n",
    "beer_group.sort_values(ascending=False)"
   ]
  },
  {
   "cell_type": "code",
   "execution_count": 161,
   "metadata": {
    "collapsed": true
   },
   "outputs": [
    {
     "data": {
      "text/html": [
       "<div>\n",
       "<style scoped>\n",
       "    .dataframe tbody tr th:only-of-type {\n",
       "        vertical-align: middle;\n",
       "    }\n",
       "\n",
       "    .dataframe tbody tr th {\n",
       "        vertical-align: top;\n",
       "    }\n",
       "\n",
       "    .dataframe thead th {\n",
       "        text-align: right;\n",
       "    }\n",
       "</style>\n",
       "<table border=\"1\" class=\"dataframe\">\n",
       "  <thead>\n",
       "    <tr style=\"text-align: right;\">\n",
       "      <th></th>\n",
       "      <th>beer_ABV</th>\n",
       "      <th>beer_beerId</th>\n",
       "      <th>beer_brewerId</th>\n",
       "      <th>beer_name</th>\n",
       "      <th>beer_style</th>\n",
       "      <th>review_appearance</th>\n",
       "      <th>review_palette</th>\n",
       "      <th>review_overall</th>\n",
       "      <th>review_taste</th>\n",
       "      <th>review_profileName</th>\n",
       "      <th>review_aroma</th>\n",
       "      <th>review_text</th>\n",
       "      <th>review_time</th>\n",
       "      <th>utc_time</th>\n",
       "      <th>review_year</th>\n",
       "      <th>COMPOUND_SENT</th>\n",
       "    </tr>\n",
       "  </thead>\n",
       "  <tbody>\n",
       "    <tr>\n",
       "      <th>33171</th>\n",
       "      <td>11.2</td>\n",
       "      <td>19960</td>\n",
       "      <td>1199</td>\n",
       "      <td>Founders KBS (Kentucky Breakfast Stout)</td>\n",
       "      <td>American Double / Imperial Stout</td>\n",
       "      <td>4.5</td>\n",
       "      <td>4.0</td>\n",
       "      <td>4.5</td>\n",
       "      <td>4.5</td>\n",
       "      <td>bierenutz</td>\n",
       "      <td>5.0</td>\n",
       "      <td>A-Poured into a glass, a dense, 2+ finger widt...</td>\n",
       "      <td>1268871332</td>\n",
       "      <td>2010-03-18T00:15:32Z</td>\n",
       "      <td>2010</td>\n",
       "      <td>0.0000</td>\n",
       "    </tr>\n",
       "    <tr>\n",
       "      <th>33172</th>\n",
       "      <td>11.2</td>\n",
       "      <td>19960</td>\n",
       "      <td>1199</td>\n",
       "      <td>Founders KBS (Kentucky Breakfast Stout)</td>\n",
       "      <td>American Double / Imperial Stout</td>\n",
       "      <td>4.5</td>\n",
       "      <td>4.5</td>\n",
       "      <td>4.5</td>\n",
       "      <td>4.0</td>\n",
       "      <td>Wisconsinality</td>\n",
       "      <td>4.5</td>\n",
       "      <td>Poured from 12oz bottle into a Chimay chalice....</td>\n",
       "      <td>1268870088</td>\n",
       "      <td>2010-03-17T23:54:48Z</td>\n",
       "      <td>2010</td>\n",
       "      <td>0.9503</td>\n",
       "    </tr>\n",
       "    <tr>\n",
       "      <th>33173</th>\n",
       "      <td>11.2</td>\n",
       "      <td>19960</td>\n",
       "      <td>1199</td>\n",
       "      <td>Founders KBS (Kentucky Breakfast Stout)</td>\n",
       "      <td>American Double / Imperial Stout</td>\n",
       "      <td>4.5</td>\n",
       "      <td>5.0</td>\n",
       "      <td>4.0</td>\n",
       "      <td>4.5</td>\n",
       "      <td>JoEBoBpr</td>\n",
       "      <td>4.5</td>\n",
       "      <td>Served in a oversized wine glass. This beer wa...</td>\n",
       "      <td>1268869242</td>\n",
       "      <td>2010-03-17T23:40:42Z</td>\n",
       "      <td>2010</td>\n",
       "      <td>0.9981</td>\n",
       "    </tr>\n",
       "    <tr>\n",
       "      <th>33174</th>\n",
       "      <td>11.2</td>\n",
       "      <td>19960</td>\n",
       "      <td>1199</td>\n",
       "      <td>Founders KBS (Kentucky Breakfast Stout)</td>\n",
       "      <td>American Double / Imperial Stout</td>\n",
       "      <td>5.0</td>\n",
       "      <td>4.0</td>\n",
       "      <td>4.0</td>\n",
       "      <td>5.0</td>\n",
       "      <td>TMoney2591</td>\n",
       "      <td>4.5</td>\n",
       "      <td>Served in a Dogfish Head snifter. Pours the wa...</td>\n",
       "      <td>1268855647</td>\n",
       "      <td>2010-03-17T19:54:07Z</td>\n",
       "      <td>2010</td>\n",
       "      <td>0.8306</td>\n",
       "    </tr>\n",
       "    <tr>\n",
       "      <th>33175</th>\n",
       "      <td>11.2</td>\n",
       "      <td>19960</td>\n",
       "      <td>1199</td>\n",
       "      <td>Founders KBS (Kentucky Breakfast Stout)</td>\n",
       "      <td>American Double / Imperial Stout</td>\n",
       "      <td>4.5</td>\n",
       "      <td>4.0</td>\n",
       "      <td>5.0</td>\n",
       "      <td>4.5</td>\n",
       "      <td>Jayli</td>\n",
       "      <td>5.0</td>\n",
       "      <td>Finally got my hands on some KBS!!! And damn i...</td>\n",
       "      <td>1268835567</td>\n",
       "      <td>2010-03-17T14:19:27Z</td>\n",
       "      <td>2010</td>\n",
       "      <td>0.9685</td>\n",
       "    </tr>\n",
       "    <tr>\n",
       "      <th>...</th>\n",
       "      <td>...</td>\n",
       "      <td>...</td>\n",
       "      <td>...</td>\n",
       "      <td>...</td>\n",
       "      <td>...</td>\n",
       "      <td>...</td>\n",
       "      <td>...</td>\n",
       "      <td>...</td>\n",
       "      <td>...</td>\n",
       "      <td>...</td>\n",
       "      <td>...</td>\n",
       "      <td>...</td>\n",
       "      <td>...</td>\n",
       "      <td>...</td>\n",
       "      <td>...</td>\n",
       "      <td>...</td>\n",
       "    </tr>\n",
       "    <tr>\n",
       "      <th>35098</th>\n",
       "      <td>11.2</td>\n",
       "      <td>19960</td>\n",
       "      <td>1199</td>\n",
       "      <td>Founders KBS (Kentucky Breakfast Stout)</td>\n",
       "      <td>American Double / Imperial Stout</td>\n",
       "      <td>4.0</td>\n",
       "      <td>5.0</td>\n",
       "      <td>4.5</td>\n",
       "      <td>4.5</td>\n",
       "      <td>beerfan99</td>\n",
       "      <td>5.0</td>\n",
       "      <td>May 2011 Vintage 12oz bottle consumed on 8/28/...</td>\n",
       "      <td>1314765365</td>\n",
       "      <td>2011-08-31T04:36:05Z</td>\n",
       "      <td>2011</td>\n",
       "      <td>0.9927</td>\n",
       "    </tr>\n",
       "    <tr>\n",
       "      <th>35099</th>\n",
       "      <td>11.2</td>\n",
       "      <td>19960</td>\n",
       "      <td>1199</td>\n",
       "      <td>Founders KBS (Kentucky Breakfast Stout)</td>\n",
       "      <td>American Double / Imperial Stout</td>\n",
       "      <td>5.0</td>\n",
       "      <td>5.0</td>\n",
       "      <td>5.0</td>\n",
       "      <td>5.0</td>\n",
       "      <td>Italktomyself77</td>\n",
       "      <td>5.0</td>\n",
       "      <td>This was a beer that I was very excited to fin...</td>\n",
       "      <td>1314759414</td>\n",
       "      <td>2011-08-31T02:56:54Z</td>\n",
       "      <td>2011</td>\n",
       "      <td>0.9605</td>\n",
       "    </tr>\n",
       "    <tr>\n",
       "      <th>35100</th>\n",
       "      <td>11.2</td>\n",
       "      <td>19960</td>\n",
       "      <td>1199</td>\n",
       "      <td>Founders KBS (Kentucky Breakfast Stout)</td>\n",
       "      <td>American Double / Imperial Stout</td>\n",
       "      <td>3.5</td>\n",
       "      <td>4.0</td>\n",
       "      <td>4.5</td>\n",
       "      <td>4.5</td>\n",
       "      <td>matttttYCE</td>\n",
       "      <td>4.5</td>\n",
       "      <td>Appearance - A little more than a finger high ...</td>\n",
       "      <td>1314680520</td>\n",
       "      <td>2011-08-30T05:02:00Z</td>\n",
       "      <td>2011</td>\n",
       "      <td>0.9965</td>\n",
       "    </tr>\n",
       "    <tr>\n",
       "      <th>35101</th>\n",
       "      <td>11.2</td>\n",
       "      <td>19960</td>\n",
       "      <td>1199</td>\n",
       "      <td>Founders KBS (Kentucky Breakfast Stout)</td>\n",
       "      <td>American Double / Imperial Stout</td>\n",
       "      <td>4.5</td>\n",
       "      <td>5.0</td>\n",
       "      <td>5.0</td>\n",
       "      <td>5.0</td>\n",
       "      <td>doughanson78</td>\n",
       "      <td>4.5</td>\n",
       "      <td>12oz bottle poured into a tulip. HUGE thanks t...</td>\n",
       "      <td>1314462886</td>\n",
       "      <td>2011-08-27T16:34:46Z</td>\n",
       "      <td>2011</td>\n",
       "      <td>0.9876</td>\n",
       "    </tr>\n",
       "    <tr>\n",
       "      <th>35102</th>\n",
       "      <td>11.2</td>\n",
       "      <td>19960</td>\n",
       "      <td>1199</td>\n",
       "      <td>Founders KBS (Kentucky Breakfast Stout)</td>\n",
       "      <td>American Double / Imperial Stout</td>\n",
       "      <td>5.0</td>\n",
       "      <td>4.0</td>\n",
       "      <td>4.0</td>\n",
       "      <td>4.5</td>\n",
       "      <td>beerswamie</td>\n",
       "      <td>4.5</td>\n",
       "      <td>This is a review of the 2011 batch, I have dra...</td>\n",
       "      <td>1314409975</td>\n",
       "      <td>2011-08-27T01:52:55Z</td>\n",
       "      <td>2011</td>\n",
       "      <td>0.6956</td>\n",
       "    </tr>\n",
       "  </tbody>\n",
       "</table>\n",
       "<p>1932 rows × 16 columns</p>\n",
       "</div>"
      ],
      "text/plain": [
       "       beer_ABV  beer_beerId  beer_brewerId  \\\n",
       "33171      11.2        19960           1199   \n",
       "33172      11.2        19960           1199   \n",
       "33173      11.2        19960           1199   \n",
       "33174      11.2        19960           1199   \n",
       "33175      11.2        19960           1199   \n",
       "...         ...          ...            ...   \n",
       "35098      11.2        19960           1199   \n",
       "35099      11.2        19960           1199   \n",
       "35100      11.2        19960           1199   \n",
       "35101      11.2        19960           1199   \n",
       "35102      11.2        19960           1199   \n",
       "\n",
       "                                     beer_name  \\\n",
       "33171  Founders KBS (Kentucky Breakfast Stout)   \n",
       "33172  Founders KBS (Kentucky Breakfast Stout)   \n",
       "33173  Founders KBS (Kentucky Breakfast Stout)   \n",
       "33174  Founders KBS (Kentucky Breakfast Stout)   \n",
       "33175  Founders KBS (Kentucky Breakfast Stout)   \n",
       "...                                        ...   \n",
       "35098  Founders KBS (Kentucky Breakfast Stout)   \n",
       "35099  Founders KBS (Kentucky Breakfast Stout)   \n",
       "35100  Founders KBS (Kentucky Breakfast Stout)   \n",
       "35101  Founders KBS (Kentucky Breakfast Stout)   \n",
       "35102  Founders KBS (Kentucky Breakfast Stout)   \n",
       "\n",
       "                             beer_style  review_appearance  review_palette  \\\n",
       "33171  American Double / Imperial Stout                4.5             4.0   \n",
       "33172  American Double / Imperial Stout                4.5             4.5   \n",
       "33173  American Double / Imperial Stout                4.5             5.0   \n",
       "33174  American Double / Imperial Stout                5.0             4.0   \n",
       "33175  American Double / Imperial Stout                4.5             4.0   \n",
       "...                                 ...                ...             ...   \n",
       "35098  American Double / Imperial Stout                4.0             5.0   \n",
       "35099  American Double / Imperial Stout                5.0             5.0   \n",
       "35100  American Double / Imperial Stout                3.5             4.0   \n",
       "35101  American Double / Imperial Stout                4.5             5.0   \n",
       "35102  American Double / Imperial Stout                5.0             4.0   \n",
       "\n",
       "       review_overall  review_taste review_profileName  review_aroma  \\\n",
       "33171             4.5           4.5          bierenutz           5.0   \n",
       "33172             4.5           4.0     Wisconsinality           4.5   \n",
       "33173             4.0           4.5           JoEBoBpr           4.5   \n",
       "33174             4.0           5.0         TMoney2591           4.5   \n",
       "33175             5.0           4.5              Jayli           5.0   \n",
       "...               ...           ...                ...           ...   \n",
       "35098             4.5           4.5          beerfan99           5.0   \n",
       "35099             5.0           5.0    Italktomyself77           5.0   \n",
       "35100             4.5           4.5         matttttYCE           4.5   \n",
       "35101             5.0           5.0       doughanson78           4.5   \n",
       "35102             4.0           4.5         beerswamie           4.5   \n",
       "\n",
       "                                             review_text  review_time  \\\n",
       "33171  A-Poured into a glass, a dense, 2+ finger widt...   1268871332   \n",
       "33172  Poured from 12oz bottle into a Chimay chalice....   1268870088   \n",
       "33173  Served in a oversized wine glass. This beer wa...   1268869242   \n",
       "33174  Served in a Dogfish Head snifter. Pours the wa...   1268855647   \n",
       "33175  Finally got my hands on some KBS!!! And damn i...   1268835567   \n",
       "...                                                  ...          ...   \n",
       "35098  May 2011 Vintage 12oz bottle consumed on 8/28/...   1314765365   \n",
       "35099  This was a beer that I was very excited to fin...   1314759414   \n",
       "35100  Appearance - A little more than a finger high ...   1314680520   \n",
       "35101  12oz bottle poured into a tulip. HUGE thanks t...   1314462886   \n",
       "35102  This is a review of the 2011 batch, I have dra...   1314409975   \n",
       "\n",
       "                   utc_time review_year  COMPOUND_SENT  \n",
       "33171  2010-03-18T00:15:32Z        2010         0.0000  \n",
       "33172  2010-03-17T23:54:48Z        2010         0.9503  \n",
       "33173  2010-03-17T23:40:42Z        2010         0.9981  \n",
       "33174  2010-03-17T19:54:07Z        2010         0.8306  \n",
       "33175  2010-03-17T14:19:27Z        2010         0.9685  \n",
       "...                     ...         ...            ...  \n",
       "35098  2011-08-31T04:36:05Z        2011         0.9927  \n",
       "35099  2011-08-31T02:56:54Z        2011         0.9605  \n",
       "35100  2011-08-30T05:02:00Z        2011         0.9965  \n",
       "35101  2011-08-27T16:34:46Z        2011         0.9876  \n",
       "35102  2011-08-27T01:52:55Z        2011         0.6956  \n",
       "\n",
       "[1932 rows x 16 columns]"
      ]
     },
     "execution_count": 161,
     "metadata": {},
     "output_type": "execute_result"
    }
   ],
   "source": [
    "#information about the well reviewed beer\n",
    "beer_df[beer_df['beer_beerId']==65758]"
   ]
  },
  {
   "cell_type": "code",
   "execution_count": null,
   "metadata": {},
   "outputs": [],
   "source": []
  }
 ],
 "metadata": {
  "kernelspec": {
   "display_name": "beer-analysis",
   "language": "python",
   "name": "beer-analysis"
  },
  "language_info": {
   "codemirror_mode": {
    "name": "ipython",
    "version": 3
   },
   "file_extension": ".py",
   "mimetype": "text/x-python",
   "name": "python",
   "nbconvert_exporter": "python",
   "pygments_lexer": "ipython3",
   "version": "3.6.6"
  }
 },
 "nbformat": 4,
 "nbformat_minor": 2
}
